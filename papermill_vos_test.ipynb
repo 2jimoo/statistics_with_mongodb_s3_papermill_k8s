{
 "cells": [
  {
   "cell_type": "markdown",
   "id": "2f9f5c29",
   "metadata": {},
   "source": [
    "### 시나리오\n",
    "- papermil로 받은 외부 파라미터x를 test.json {\"number\": x} 내용으로 \n",
    "- VOS에 저장한다.\n",
    "\n",
    "### 1단계\n",
    "- papermil로 받은 외부 파라미터x를 test.json {\"number\": x} 내용으로 로컬에 저장시켜보기\n",
    "\n",
    "### 2단계\n",
    "- VOS에서 파일 가져와보기\n",
    "- VOS에 로컬파일 저장싴"
   ]
  },
  {
   "cell_type": "code",
   "execution_count": null,
   "id": "70a17b95",
   "metadata": {},
   "outputs": [],
   "source": []
  }
 ],
 "metadata": {
  "kernelspec": {
   "display_name": "Python 3 (ipykernel)",
   "language": "python",
   "name": "python3"
  },
  "language_info": {
   "codemirror_mode": {
    "name": "ipython",
    "version": 3
   },
   "file_extension": ".py",
   "mimetype": "text/x-python",
   "name": "python",
   "nbconvert_exporter": "python",
   "pygments_lexer": "ipython3",
   "version": "3.8.9"
  }
 },
 "nbformat": 4,
 "nbformat_minor": 5
}
