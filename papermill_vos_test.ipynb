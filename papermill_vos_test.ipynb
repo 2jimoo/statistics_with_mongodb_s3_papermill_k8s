{
 "cells": [
  {
   "cell_type": "markdown",
   "id": "e35c3dc6",
   "metadata": {},
   "source": [
    "### 시나리오\n",
    "- papermil로 받은 외부 파라미터x를 test.json {\"number\": x} 내용으로 \n",
    "- VOS에 저장한다.\n",
    "\n",
    "### 1단계\n",
    "- papermil로 받은 외부 파라미터x를 test.json {\"number\": x} 내용으로 로컬에 저장시켜보기\n",
    "\n",
    "### 2단계\n",
    "- VOS에서 파일 가져와보기\n",
    "- VOS에 로컬파일 저장시켜보기\n",
    "\n",
    "### 3단계\n",
    "- 위 두 단계 통합"
   ]
  },
  {
   "cell_type": "code",
   "execution_count": 1,
   "id": "6efe5803",
   "metadata": {},
   "outputs": [
    {
     "name": "stdout",
     "output_type": "stream",
     "text": [
      "[master a9da9d5] papermil, s3 with boto3\n",
      " 1 file changed, 50 insertions(+)\n",
      " create mode 100644 papermill_vos_test.ipynb\n",
      "Enumerating objects: 4, done.\n",
      "Counting objects: 100% (4/4), done.\n",
      "Delta compression using up to 10 threads\n",
      "Compressing objects: 100% (3/3), done.\n",
      "Writing objects: 100% (3/3), 825 bytes | 825.00 KiB/s, done.\n",
      "Total 3 (delta 1), reused 0 (delta 0), pack-reused 0\n",
      "remote: Resolving deltas: 100% (1/1), completed with 1 local object.\u001b[K\n",
      "To https://github.com/2jimoo/data_stastics\n",
      "   72eb3dd..a9da9d5  master -> master\n"
     ]
    }
   ],
   "source": [
    "! git add papermill_vos_test.ipynb\n",
    "! git commit -m \"papermil, s3 with boto3\"\n",
    "! git push origin master"
   ]
  },
  {
   "cell_type": "code",
   "execution_count": null,
   "id": "a41071fa",
   "metadata": {},
   "outputs": [],
   "source": []
  }
 ],
 "metadata": {
  "kernelspec": {
   "display_name": "Python 3 (ipykernel)",
   "language": "python",
   "name": "python3"
  },
  "language_info": {
   "codemirror_mode": {
    "name": "ipython",
    "version": 3
   },
   "file_extension": ".py",
   "mimetype": "text/x-python",
   "name": "python",
   "nbconvert_exporter": "python",
   "pygments_lexer": "ipython3",
   "version": "3.8.9"
  }
 },
 "nbformat": 4,
 "nbformat_minor": 5
}
