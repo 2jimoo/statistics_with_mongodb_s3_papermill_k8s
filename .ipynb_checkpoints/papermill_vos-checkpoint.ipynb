{
 "cells": [
  {
   "cell_type": "markdown",
   "id": "e35c3dc6",
   "metadata": {},
   "source": [
    "### 시나리오\n",
    "- papermil로 받은 외부 파라미터x를 test.json {\"number\": x} 내용으로 \n",
    "- VOS에 저장한다.\n",
    "\n",
    "### 1단계\n",
    "- papermil로 받은 외부 파라미터x를 test.json {\"number\": x} 내용으로 로컬에 저장시켜보기\n",
    "\n",
    "### 2단계\n",
    "- VOS에 로컬파일 저장시켜보기\n",
    "\n",
    "### 3단계\n",
    "- 위 두 단계 통합 (! pip3 install 'papermill[s3]')"
   ]
  },
  {
   "cell_type": "code",
   "execution_count": 69,
   "id": "884dd447",
   "metadata": {
    "tags": [
     "parameters"
    ]
   },
   "outputs": [],
   "source": [
    "title= 'test'\n",
    "x =3"
   ]
  },
  {
   "cell_type": "code",
   "execution_count": 70,
   "id": "5f9789c1",
   "metadata": {},
   "outputs": [],
   "source": [
    "import json\n",
    "data= {\"number\": x}\n",
    "with open('./'+title+'.json','w') as f:\n",
    "    json.dump(data,f)"
   ]
  },
  {
   "cell_type": "code",
   "execution_count": 71,
   "id": "4f5aef36",
   "metadata": {},
   "outputs": [],
   "source": [
    "with open('./'+title+'.json','r') as f:\n",
    "    restore =json.load(f)"
   ]
  },
  {
   "cell_type": "code",
   "execution_count": 72,
   "id": "94454626",
   "metadata": {},
   "outputs": [
    {
     "name": "stdout",
     "output_type": "stream",
     "text": [
      "3\n"
     ]
    }
   ],
   "source": [
    "print(restore['number'])"
   ]
  },
  {
   "cell_type": "code",
   "execution_count": 73,
   "id": "366df19e",
   "metadata": {},
   "outputs": [],
   "source": [
    "import boto3\n",
    "from botocore.client import Config\n",
    "\n",
    "ACCESS_KEY = 'd6dfe85cf4d2443a830bdbf1a442b8a6'\n",
    "SECRET_KEY = 'bc8e8cc586664ef698f967d3243902c3'\n",
    "s3_host = 'https://line-objects-dev.com'\n",
    "config = Config(signature_version='s3',\n",
    "        s3={'addressing_style': 'path'})\n",
    "  \n",
    "s3 = boto3.resource('s3',\n",
    "        aws_access_key_id = ACCESS_KEY,\n",
    "        aws_secret_access_key = SECRET_KEY,\n",
    "        endpoint_url = s3_host,\n",
    "        config=config)"
   ]
  },
  {
   "cell_type": "code",
   "execution_count": 74,
   "id": "1862500f",
   "metadata": {},
   "outputs": [],
   "source": [
    "BUCKET_NAME='parpermill_local_test'\n",
    "if BUCKET_NAME not in s3.buckets.all():\n",
    "    s3.create_bucket(Bucket=BUCKET_NAME)"
   ]
  },
  {
   "cell_type": "code",
   "execution_count": 75,
   "id": "38bb8e9b",
   "metadata": {},
   "outputs": [
    {
     "name": "stdout",
     "output_type": "stream",
     "text": [
      "hello-test-bucket\n",
      "lai-fe-distribution\n",
      "lai-rundeck\n",
      "parpermill_local_test\n"
     ]
    }
   ],
   "source": [
    "for bucket in s3.buckets.all():\n",
    "    print(bucket.name)"
   ]
  },
  {
   "cell_type": "code",
   "execution_count": 76,
   "id": "c3652ae0",
   "metadata": {},
   "outputs": [],
   "source": [
    "buckets = s3.Bucket(name=BUCKET_NAME)"
   ]
  },
  {
   "cell_type": "code",
   "execution_count": 77,
   "id": "f3f7490a",
   "metadata": {},
   "outputs": [],
   "source": [
    "from datetime import date\n",
    "s3.meta.client.upload_file('./'+title+'.json',BUCKET_NAME, title+\"_\"+str(date.today())+\".json\", ExtraArgs={'ACL': 'public-read'})"
   ]
  },
  {
   "cell_type": "code",
   "execution_count": 78,
   "id": "ae5db4be",
   "metadata": {},
   "outputs": [
    {
     "name": "stdout",
     "output_type": "stream",
     "text": [
      "s3.ObjectSummary(bucket_name='parpermill_local_test', key='test_2022-08-10.json')\n"
     ]
    }
   ],
   "source": [
    "for my_bucket_object in buckets.objects.all():\n",
    "    print(my_bucket_object)"
   ]
  },
  {
   "cell_type": "code",
   "execution_count": null,
   "id": "d3442849",
   "metadata": {},
   "outputs": [],
   "source": []
  }
 ],
 "metadata": {
  "celltoolbar": "Tags",
  "kernelspec": {
   "display_name": "Python 3 (ipykernel)",
   "language": "python",
   "name": "python3"
  },
  "language_info": {
   "codemirror_mode": {
    "name": "ipython",
    "version": 3
   },
   "file_extension": ".py",
   "mimetype": "text/x-python",
   "name": "python",
   "nbconvert_exporter": "python",
   "pygments_lexer": "ipython3",
   "version": "3.8.9"
  }
 },
 "nbformat": 4,
 "nbformat_minor": 5
}
