{
 "cells": [
  {
   "cell_type": "markdown",
   "id": "b1a674cb",
   "metadata": {},
   "source": [
    "### Pymongo\n",
    "- /Library/Developer/CommandLineTools/usr/bin/python3 -m pip install --upgrade pip\n",
    "- pip install pymongo"
   ]
  },
  {
   "cell_type": "code",
   "execution_count": null,
   "id": "15b941b3",
   "metadata": {},
   "outputs": [],
   "source": [
    "import pymongo\n",
    "\n",
    "client = pymongo.MongoClient(host= '10.241.49.55', port=20011, username='dba',password='dba')\n",
    "# print(client.list_database_names())\n",
    "db= client['lai-alpha']"
   ]
  },
  {
   "cell_type": "code",
   "execution_count": null,
   "id": "9c4e7bbc",
   "metadata": {},
   "outputs": [],
   "source": [
    "import pandas as pd\n",
    "\n",
    "# 방법1 cursor - dict list - dataframe\n",
    "resourceDf = pd.DataFrame(list(db.resource.find()))\n",
    "applicationDf = pd.DataFrame(list(db.application.find()))\n",
    "paDf = pd.DataFrame(list(db.productApplication.find()))\n",
    "\n",
    "\n",
    "serverResourceDf = resourceDf[\n",
    "    resourceDf[\"type\"].isin(['server','legacy-server','legacy-physical-server'])]\n",
    "\n",
    "total_resource_count = serverResourceDf.shape[0]\n",
    "total_server_count = db.server.count_documents({})"
   ]
  },
  {
   "cell_type": "code",
   "execution_count": null,
   "id": "f808ba9f",
   "metadata": {},
   "outputs": [],
   "source": [
    "import json\n",
    "\n",
    "defaultPA = paDf[paDf[\"name\"]=='default']\\\n",
    "default_pa_id = defaultPA['_id'].loc[0]\n",
    "print(default_pa_id)"
   ]
  }
 ],
 "metadata": {
  "kernelspec": {
   "display_name": "Python 3 (ipykernel)",
   "language": "python",
   "name": "python3"
  },
  "language_info": {
   "codemirror_mode": {
    "name": "ipython",
    "version": 3
   },
   "file_extension": ".py",
   "mimetype": "text/x-python",
   "name": "python",
   "nbconvert_exporter": "python",
   "pygments_lexer": "ipython3",
   "version": "3.8.9"
  }
 },
 "nbformat": 4,
 "nbformat_minor": 5
}
