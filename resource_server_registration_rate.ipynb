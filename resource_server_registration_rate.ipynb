{
 "cells": [
  {
   "cell_type": "code",
   "execution_count": 40,
   "id": "505271ef",
   "metadata": {},
   "outputs": [
    {
     "data": {
      "text/plain": [
       "(134009, 10)"
      ]
     },
     "execution_count": 40,
     "metadata": {},
     "output_type": "execute_result"
    }
   ],
   "source": [
    "# 방법2. json to dataframe\n",
    "import pandas as pd\n",
    "resourceDf = pd.read_json(\"../data/resource.json\") \n",
    "applicationDf = pd.read_json(\"../data/application.json\")\n",
    "paDf = pd.read_json(\"../data/productApplication.json\")\n",
    "serverDf = pd.read_json(\"../data/server.json\")\n",
    "\n",
    "serverResourceDf = resourceDf[\n",
    "    resourceDf[\"type\"].isin(['server','legacy-server','legacy-physical-server'])]\n",
    "\n",
    "total_resource_count = serverResourceDf.shape[0]\n",
    "total_server_count =serverDf.shape[0]\n",
    "serverResourceDf.shape\n"
   ]
  },
  {
   "cell_type": "code",
   "execution_count": 42,
   "id": "f51ee468",
   "metadata": {},
   "outputs": [
    {
     "name": "stdout",
     "output_type": "stream",
     "text": [
      "61d3cd987d7ab1f2dc6bab0d\n"
     ]
    }
   ],
   "source": [
    "import json\n",
    "\n",
    "defaultPA = json.loads(paDf[paDf[\"name\"]=='default'].to_json())\n",
    "default_pa_id = defaultPA['_id']['0']['$oid']\n",
    "\n",
    "print(default_pa_id)"
   ]
  },
  {
   "cell_type": "code",
   "execution_count": 43,
   "id": "207008dc",
   "metadata": {},
   "outputs": [],
   "source": [
    "pd.set_option('mode.chained_assignment',  None) \n",
    "\n",
    "applicationDf[\"parentGroup\"] = applicationDf[\"parentGroup\"].apply(lambda x : x['_id']['$oid'])\n",
    "applicationDf[\"_id\"] = applicationDf[\"_id\"].apply(lambda x : x['$oid'])\n",
    "serverResourceDf[\"parentGroups\"]= serverResourceDf[\"parentGroups\"].apply(lambda x : x[0]['_id']['$oid'])"
   ]
  },
  {
   "cell_type": "code",
   "execution_count": 44,
   "id": "bc6f9556",
   "metadata": {},
   "outputs": [],
   "source": [
    "lookupServerApplicationDf = pd.merge(left = serverResourceDf , right = applicationDf, left_on='parentGroups', right_on='_id', how = \"left\" ,suffixes=[\"_resource\",\"_application\"])"
   ]
  },
  {
   "cell_type": "code",
   "execution_count": 45,
   "id": "1e57f721",
   "metadata": {},
   "outputs": [
    {
     "name": "stdout",
     "output_type": "stream",
     "text": [
      "75323\n"
     ]
    }
   ],
   "source": [
    "non_default_pa_server = lookupServerApplicationDf[lookupServerApplicationDf[\"parentGroup\"] != default_pa_id]\n",
    "non_default_pa_server.dropna(axis=0,how='any',subset=[\"parentGroup\",\"parentGroups\"],inplace = True)\n",
    "registered_server_count= non_default_pa_server.shape[0]\n",
    "print(registered_server_count)"
   ]
  },
  {
   "cell_type": "code",
   "execution_count": 48,
   "id": "4bcfdea6",
   "metadata": {},
   "outputs": [
    {
     "ename": "NameError",
     "evalue": "name 'labels' is not defined",
     "output_type": "error",
     "traceback": [
      "\u001b[0;31m---------------------------------------------------------------------------\u001b[0m",
      "\u001b[0;31mNameError\u001b[0m                                 Traceback (most recent call last)",
      "Input \u001b[0;32mIn [48]\u001b[0m, in \u001b[0;36m<module>\u001b[0;34m\u001b[0m\n\u001b[1;32m      7\u001b[0m values1 \u001b[38;5;241m=\u001b[39m [registered_server_count, unregistered_server_count]\n\u001b[1;32m      8\u001b[0m labels1 \u001b[38;5;241m=\u001b[39m [\u001b[38;5;124m\"\u001b[39m\u001b[38;5;124mregistered server type resource\u001b[39m\u001b[38;5;124m\"\u001b[39m, \u001b[38;5;124m\"\u001b[39m\u001b[38;5;124munregistered server type resource\u001b[39m\u001b[38;5;124m\"\u001b[39m]\n\u001b[0;32m----> 9\u001b[0m colors1 \u001b[38;5;241m=\u001b[39m sns\u001b[38;5;241m.\u001b[39mcolor_palette(\u001b[38;5;124m'\u001b[39m\u001b[38;5;124mhls\u001b[39m\u001b[38;5;124m'\u001b[39m,\u001b[38;5;28mlen\u001b[39m(\u001b[43mlabels\u001b[49m))\n\u001b[1;32m     11\u001b[0m plt\u001b[38;5;241m.\u001b[39msubplot(\u001b[38;5;241m1\u001b[39m,\u001b[38;5;241m2\u001b[39m,\u001b[38;5;241m1\u001b[39m)\n\u001b[1;32m     12\u001b[0m result1 \u001b[38;5;241m=\u001b[39m plt\u001b[38;5;241m.\u001b[39mpie(values1,labels\u001b[38;5;241m=\u001b[39mlabels1, autopct\u001b[38;5;241m=\u001b[39m\u001b[38;5;124m'\u001b[39m\u001b[38;5;132;01m%.3f\u001b[39;00m\u001b[38;5;132;01m%%\u001b[39;00m\u001b[38;5;124m'\u001b[39m, colors \u001b[38;5;241m=\u001b[39m colors1, shadow\u001b[38;5;241m=\u001b[39m\u001b[38;5;28;01mTrue\u001b[39;00m)\n",
      "\u001b[0;31mNameError\u001b[0m: name 'labels' is not defined"
     ]
    },
    {
     "data": {
      "text/plain": [
       "<Figure size 720x576 with 0 Axes>"
      ]
     },
     "metadata": {},
     "output_type": "display_data"
    }
   ],
   "source": [
    "import matplotlib.pyplot as plt\n",
    "import seaborn as sns\n",
    "\n",
    "plt.figure(figsize=(10,8))\n",
    "registered_server_count= non_default_pa_server.shape[0]\n",
    "unregistered_server_count=total_resource_count-registered_server_count\n",
    "values1 = [registered_server_count, unregistered_server_count]\n",
    "labels1 = [\"registered server type resource\", \"unregistered server type resource\"]\n",
    "colors1 = sns.color_palette('hls',len(labels1))\n",
    "\n",
    "plt.subplot(1,2,1)\n",
    "result1 = plt.pie(values1,labels=labels1, autopct='%.3f%%', colors = colors1, shadow=True)\n",
    "\n",
    "server_count = non_default_pa_server[non_default_pa_server[\"type\"]==\"server\"].shape[0]\n",
    "legacy_server_count= non_default_pa_server[non_default_pa_server[\"type\"]==\"legacy-server\"].shape[0]\n",
    "legacy_physical_server_count=non_default_pa_server[non_default_pa_server[\"type\"]==\"legacy-physical-server\"].shape[0]\n",
    "\n",
    "values2 = [server_count,legacy_server_count,legacy_physical_server_count ]\n",
    "labels2 = [\"server\", \"legacy_server\", \"legacy_physical_server\"]\n",
    "colors2 = sns.color_palette('hls',len(labels2))\n",
    "\n",
    "plt.subplot(1,2,2)\n",
    "result2 = plt.pie(values2,labels=labels2, autopct='%.3f%%', colors = colors2, shadow=True)"
   ]
  },
  {
   "cell_type": "code",
   "execution_count": null,
   "id": "e1f4a235",
   "metadata": {},
   "outputs": [],
   "source": [
    "plt.figure(figsize=(10,8))\n",
    "\n",
    "values3 = [registered_server_count, total_server_count-registered_server_count]\n",
    "labels3 = [\"registered server type resource\", \"unregistered server\"]\n",
    "colors3 = sns.color_palette('hls',len(labels))\n",
    "result3 = plt.pie(values3,labels=labels3, autopct='%.3f%%', colors = colors3, shadow=True)"
   ]
  },
  {
   "cell_type": "code",
   "execution_count": 47,
   "id": "70cc77a1",
   "metadata": {},
   "outputs": [
    {
     "ename": "NameError",
     "evalue": "name 'result1' is not defined",
     "output_type": "error",
     "traceback": [
      "\u001b[0;31m---------------------------------------------------------------------------\u001b[0m",
      "\u001b[0;31mNameError\u001b[0m                                 Traceback (most recent call last)",
      "Input \u001b[0;32mIn [47]\u001b[0m, in \u001b[0;36m<module>\u001b[0;34m\u001b[0m\n\u001b[1;32m      8\u001b[0m     portion_df\u001b[38;5;241m.\u001b[39mto_csv(path\u001b[38;5;241m+\u001b[39mprefix\u001b[38;5;241m+\u001b[39m\u001b[38;5;124m\"\u001b[39m\u001b[38;5;124m_\u001b[39m\u001b[38;5;124m\"\u001b[39m\u001b[38;5;241m+\u001b[39m\u001b[38;5;28mstr\u001b[39m(datetime\u001b[38;5;241m.\u001b[39mnow())\u001b[38;5;241m+\u001b[39m\u001b[38;5;124m\"\u001b[39m\u001b[38;5;124m.csv\u001b[39m\u001b[38;5;124m\"\u001b[39m)\n\u001b[1;32m     11\u001b[0m path\u001b[38;5;241m=\u001b[39m\u001b[38;5;124m\"\u001b[39m\u001b[38;5;124m./\u001b[39m\u001b[38;5;124m\"\u001b[39m\n\u001b[0;32m---> 12\u001b[0m save_portion_and_count_frame(\u001b[43mresult1\u001b[49m, labels1, values1, path, \u001b[38;5;124m\"\u001b[39m\u001b[38;5;124mregistered server type resources on lai resource\u001b[39m\u001b[38;5;124m\"\u001b[39m)\n\u001b[1;32m     13\u001b[0m save_portion_and_count_frame(result2, labels2, values2, path, \u001b[38;5;124m\"\u001b[39m\u001b[38;5;124mregistered resources per type\u001b[39m\u001b[38;5;124m\"\u001b[39m)\n\u001b[1;32m     14\u001b[0m save_portion_and_count_frame(result3, labels3, values3, path, \u001b[38;5;124m\"\u001b[39m\u001b[38;5;124mregistered server type resources on servers\u001b[39m\u001b[38;5;124m\"\u001b[39m)\n",
      "\u001b[0;31mNameError\u001b[0m: name 'result1' is not defined"
     ]
    }
   ],
   "source": [
    "from datetime import datetime\n",
    "\n",
    "def save_portion_and_count_frame(result, labels, values, path, prefix):\n",
    "    percentages=[]\n",
    "    for res in result[2]:\n",
    "        percentages.append(res.get_text())\n",
    "    portion_df = pd.DataFrame({'Target':labels, 'Portion': percentages,'Count': values})\n",
    "    portion_df.to_csv(path+prefix+\"_\"+str(datetime.now())+\".csv\")\n",
    "    \n",
    "\n",
    "path=\"./\"\n",
    "save_portion_and_count_frame(result1, labels1, values1, path, \"registered server type resources on lai resource\")\n",
    "save_portion_and_count_frame(result2, labels2, values2, path, \"registered resources per type\")\n",
    "save_portion_and_count_frame(result3, labels3, values3, path, \"registered server type resources on servers\")"
   ]
  },
  {
   "cell_type": "code",
   "execution_count": 170,
   "id": "3e369a6b",
   "metadata": {},
   "outputs": [
    {
     "data": {
      "text/html": [
       "<div>\n",
       "<style scoped>\n",
       "    .dataframe tbody tr th:only-of-type {\n",
       "        vertical-align: middle;\n",
       "    }\n",
       "\n",
       "    .dataframe tbody tr th {\n",
       "        vertical-align: top;\n",
       "    }\n",
       "\n",
       "    .dataframe thead th {\n",
       "        text-align: right;\n",
       "    }\n",
       "</style>\n",
       "<table border=\"1\" class=\"dataframe\">\n",
       "  <thead>\n",
       "    <tr style=\"text-align: right;\">\n",
       "      <th></th>\n",
       "      <th>Target</th>\n",
       "      <th>Portion</th>\n",
       "      <th>Count</th>\n",
       "    </tr>\n",
       "  </thead>\n",
       "  <tbody>\n",
       "    <tr>\n",
       "      <th>0</th>\n",
       "      <td>server</td>\n",
       "      <td>82.596%</td>\n",
       "      <td>62214</td>\n",
       "    </tr>\n",
       "    <tr>\n",
       "      <th>1</th>\n",
       "      <td>legacy_server</td>\n",
       "      <td>2.050%</td>\n",
       "      <td>1544</td>\n",
       "    </tr>\n",
       "    <tr>\n",
       "      <th>2</th>\n",
       "      <td>legacy_physical_server</td>\n",
       "      <td>15.354%</td>\n",
       "      <td>11565</td>\n",
       "    </tr>\n",
       "  </tbody>\n",
       "</table>\n",
       "</div>"
      ],
      "text/plain": [
       "                   Target  Portion  Count\n",
       "0                  server  82.596%  62214\n",
       "1           legacy_server   2.050%   1544\n",
       "2  legacy_physical_server  15.354%  11565"
      ]
     },
     "execution_count": 170,
     "metadata": {},
     "output_type": "execute_result"
    }
   ],
   "source": [
    "test_df =pd.read_csv(\"registered resources per type_2022-08-08 16:06:40.819073.csv\")\n",
    "test_df=test_df[test_df.columns[1:]]\n",
    "test_df.head()"
   ]
  },
  {
   "cell_type": "code",
   "execution_count": 171,
   "id": "57f19041",
   "metadata": {},
   "outputs": [
    {
     "name": "stdout",
     "output_type": "stream",
     "text": [
      "[master 368d0cf] export report\n",
      " 4 files changed, 129 insertions(+), 78 deletions(-)\n",
      " create mode 100644 registered resources per type_2022-08-08 16:06:40.819073.csv\n",
      " create mode 100644 registered server type resources on lai resource_2022-08-08 16:06:40.813933.csv\n",
      " create mode 100644 registered server type resources on servers_2022-08-08 16:06:40.821924.csv\n",
      "Enumerating objects: 8, done.\n",
      "Counting objects: 100% (8/8), done.\n",
      "Delta compression using up to 10 threads\n",
      "Compressing objects: 100% (6/6), done.\n",
      "Writing objects: 100% (6/6), 20.85 KiB | 10.43 MiB/s, done.\n",
      "Total 6 (delta 2), reused 0 (delta 0), pack-reused 0\n",
      "remote: Resolving deltas: 100% (2/2), completed with 1 local object.\u001b[K\n",
      "To https://github.com/2jimoo/data_stastics\n",
      "   a2d42cd..368d0cf  master -> master\n"
     ]
    }
   ],
   "source": [
    "! git add .\n",
    "! git commit -m \"export report\"\n",
    "! git push origin master"
   ]
  },
  {
   "cell_type": "code",
   "execution_count": null,
   "id": "e97b72d4",
   "metadata": {},
   "outputs": [],
   "source": []
  }
 ],
 "metadata": {
  "kernelspec": {
   "display_name": "Python 3 (ipykernel)",
   "language": "python",
   "name": "python3"
  },
  "language_info": {
   "codemirror_mode": {
    "name": "ipython",
    "version": 3
   },
   "file_extension": ".py",
   "mimetype": "text/x-python",
   "name": "python",
   "nbconvert_exporter": "python",
   "pygments_lexer": "ipython3",
   "version": "3.8.9"
  }
 },
 "nbformat": 4,
 "nbformat_minor": 5
}
