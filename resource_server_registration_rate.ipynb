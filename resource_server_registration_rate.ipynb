{
 "cells": [
  {
   "cell_type": "code",
   "execution_count": 350,
   "id": "505271ef",
   "metadata": {},
   "outputs": [],
   "source": [
    "import pandas as pd\n",
    "resourceDf = pd.read_json(\"../data/resource.json\") \n",
    "applicationDf = pd.read_json(\"../data/application.json\")\n",
    "paDf = pd.read_json(\"../data/productApplication.json\")\n",
    "serverDf = pd.read_json(\"../data/server.json\")"
   ]
  },
  {
   "cell_type": "code",
   "execution_count": 351,
   "id": "be264647",
   "metadata": {},
   "outputs": [
    {
     "data": {
      "text/plain": [
       "(133373, 10)"
      ]
     },
     "execution_count": 351,
     "metadata": {},
     "output_type": "execute_result"
    }
   ],
   "source": [
    "total_resource_count = resourceDf.shape[0]\n",
    "total_server_count =serverDf.shape[0]\n",
    "\n",
    "serverResourceDf = resourceDf[\n",
    "    resourceDf[\"type\"].isin(['server','legacy-server','legacy-physical-server'])]\n",
    "serverResourceDf.shape"
   ]
  },
  {
   "cell_type": "code",
   "execution_count": 352,
   "id": "f51ee468",
   "metadata": {},
   "outputs": [
    {
     "name": "stdout",
     "output_type": "stream",
     "text": [
      "61d3cd987d7ab1f2dc6bab0d\n"
     ]
    }
   ],
   "source": [
    "import json\n",
    "defaultPA = json.loads(paDf[paDf[\"name\"]=='default'].to_json())\n",
    "default_pa_id = defaultPA['_id']['0']['$oid']\n",
    "print(default_pa_id)"
   ]
  },
  {
   "cell_type": "code",
   "execution_count": 353,
   "id": "207008dc",
   "metadata": {},
   "outputs": [],
   "source": [
    "pd.set_option('mode.chained_assignment',  None) \n",
    "\n",
    "applicationDf[\"parentGroup\"] = applicationDf[\"parentGroup\"].apply(lambda x : x['_id']['$oid'])\n",
    "applicationDf[\"_id\"] = applicationDf[\"_id\"].apply(lambda x : x['$oid'])\n",
    "serverResourceDf[\"parentGroups\"]= serverResourceDf[\"parentGroups\"].apply(lambda x : x[0]['_id']['$oid'])"
   ]
  },
  {
   "cell_type": "code",
   "execution_count": 354,
   "id": "bc6f9556",
   "metadata": {},
   "outputs": [],
   "source": [
    "lookupServerApplicationDf = pd.merge(left = serverResourceDf , right = applicationDf, left_on='parentGroups', right_on='_id', how = \"left\" ,suffixes=[\"_resource\",\"_application\"])"
   ]
  },
  {
   "cell_type": "code",
   "execution_count": 355,
   "id": "1e57f721",
   "metadata": {},
   "outputs": [],
   "source": [
    "non_default_pa_server = lookupServerApplicationDf[lookupServerApplicationDf[\"parentGroup\"] != default_pa_id]\n",
    "non_default_pa_server.dropna(axis=0,how='any',subset=[\"parentGroup\",\"parentGroups\"],inplace = True)\n",
    "non_default_pa_server_count= non_default_pa_server.shape[0]"
   ]
  },
  {
   "cell_type": "code",
   "execution_count": 359,
   "id": "4bcfdea6",
   "metadata": {},
   "outputs": [
    {
     "data": {
      "text/plain": [
       "([<matplotlib.patches.Wedge at 0x457f71130>,\n",
       "  <matplotlib.patches.Wedge at 0x457f71880>],\n",
       " [Text(0.7891340372758728, 0.7663337857700662, 'server type resource'),\n",
       "  Text(-0.7891340372758726, -0.7663337857700663, 'total resource')],\n",
       " [Text(0.4304367476050215, 0.4180002467836724, '24.53%'),\n",
       "  Text(-0.43043674760502143, -0.4180002467836725, '75.47%')])"
      ]
     },
     "execution_count": 359,
     "metadata": {},
     "output_type": "execute_result"
    },
    {
     "data": {
      "image/png": "[encoded data removed]",
      "text/plain": [
       "<Figure size 432x288 with 1 Axes>"
      ]
     },
     "metadata": {},
     "output_type": "display_data"
    }
   ],
   "source": [
    "import matplotlib.pyplot as plt\n",
    "import seaborn as sns\n",
    "\n",
    "values = [non_default_pa_server_count, total_resource_count-non_default_pa_server_count]\n",
    "labels = [\"server type resource\", \"total resource\"]\n",
    "colors = sns.color_palette('hls',len(labels))\n",
    "\n",
    "plt.pie(values,labels=labels, autopct='%.3f%%', colors = colors,shadow=True)"
   ]
  },
  {
   "cell_type": "code",
   "execution_count": 360,
   "id": "e1f4a235",
   "metadata": {},
   "outputs": [
    {
     "data": {
      "text/plain": [
       "([<matplotlib.patches.Wedge at 0x454fbf850>,\n",
       "  <matplotlib.patches.Wedge at 0x454fbf280>],\n",
       " [Text(0.7886596230005808, 0.7668220126265168, 'server type resource'),\n",
       "  Text(-0.7886596230005808, -0.7668220126265168, 'total server')],\n",
       " [Text(0.43017797618213494, 0.41826655234173643, '24.55%'),\n",
       "  Text(-0.43017797618213494, -0.41826655234173643, '75.45%')])"
      ]
     },
     "execution_count": 360,
     "metadata": {},
     "output_type": "execute_result"
    },
    {
     "data": {
      "image/png": "[encoded data removed]",
      "text/plain": [
       "<Figure size 432x288 with 1 Axes>"
      ]
     },
     "metadata": {},
     "output_type": "display_data"
    }
   ],
   "source": [
    "values2 = [non_default_pa_server_count, total_server_count-non_default_pa_server_count]\n",
    "labels2 = [\"server type resource\", \"total server\"]\n",
    "colors2 = sns.color_palette('hls',len(labels))\n",
    "plt.pie(values2,labels=labels2, autopct='%.3f%%', colors = colors2,shadow=True)"
   ]
  },
  {
   "cell_type": "code",
   "execution_count": 362,
   "id": "2415646f",
   "metadata": {},
   "outputs": [
    {
     "name": "stdout",
     "output_type": "stream",
     "text": [
      ".\r\n"
     ]
    }
   ],
   "source": [
    "# TODO - subplot, 갯수 나타내기, 전체에 대한 비율"
   ]
  },
  {
   "cell_type": "code",
   "execution_count": null,
   "id": "afd4d46f",
   "metadata": {},
   "outputs": [],
   "source": []
  }
 ],
 "metadata": {
  "kernelspec": {
   "display_name": "Python 3 (ipykernel)",
   "language": "python",
   "name": "python3"
  },
  "language_info": {
   "codemirror_mode": {
    "name": "ipython",
    "version": 3
   },
   "file_extension": ".py",
   "mimetype": "text/x-python",
   "name": "python",
   "nbconvert_exporter": "python",
   "pygments_lexer": "ipython3",
   "version": "3.8.9"
  }
 },
 "nbformat": 4,
 "nbformat_minor": 5
}
