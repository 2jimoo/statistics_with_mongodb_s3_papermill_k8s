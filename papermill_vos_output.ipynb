{
 "cells": [
  {
   "cell_type": "markdown",
   "id": "e35c3dc6",
   "metadata": {
    "papermill": {
     "duration": 0.020915,
     "end_time": "2022-08-10T03:51:24.249105",
     "exception": false,
     "start_time": "2022-08-10T03:51:24.228190",
     "status": "completed"
    },
    "tags": []
   },
   "source": [
    "### 시나리오\n",
    "- papermil로 받은 외부 파라미터x를 test.json {\"number\": x} 내용으로 \n",
    "- VOS에 저장한다.\n",
    "\n",
    "### 1단계\n",
    "- papermil로 받은 외부 파라미터x를 test.json {\"number\": x} 내용으로 로컬에 저장시켜보기\n",
    "\n",
    "### 2단계\n",
    "- VOS에 로컬파일 저장시켜보기\n",
    "\n",
    "### 3단계\n",
    "- 위 두 단계 통합 (! pip3 install 'papermill[s3]')"
   ]
  },
  {
   "cell_type": "code",
   "execution_count": 1,
   "id": "884dd447",
   "metadata": {
    "execution": {
     "iopub.execute_input": "2022-08-10T03:51:24.271090Z",
     "iopub.status.busy": "2022-08-10T03:51:24.270483Z",
     "iopub.status.idle": "2022-08-10T03:51:24.279362Z",
     "shell.execute_reply": "2022-08-10T03:51:24.278957Z"
    },
    "papermill": {
     "duration": 0.020272,
     "end_time": "2022-08-10T03:51:24.280889",
     "exception": false,
     "start_time": "2022-08-10T03:51:24.260617",
     "status": "completed"
    },
    "tags": [
     "parameters"
    ]
   },
   "outputs": [],
   "source": [
    "title= 'test'\n",
    "x =3"
   ]
  },
  {
   "cell_type": "code",
   "execution_count": 2,
   "id": "f4b1a0ac",
   "metadata": {
    "execution": {
     "iopub.execute_input": "2022-08-10T03:51:24.295059Z",
     "iopub.status.busy": "2022-08-10T03:51:24.294798Z",
     "iopub.status.idle": "2022-08-10T03:51:24.296838Z",
     "shell.execute_reply": "2022-08-10T03:51:24.296558Z"
    },
    "papermill": {
     "duration": 0.009645,
     "end_time": "2022-08-10T03:51:24.297799",
     "exception": false,
     "start_time": "2022-08-10T03:51:24.288154",
     "status": "completed"
    },
    "tags": [
     "injected-parameters"
    ]
   },
   "outputs": [],
   "source": [
    "# Parameters\n",
    "title = \"2022-08-10-Wed\"\n",
    "x = 123456\n"
   ]
  },
  {
   "cell_type": "code",
   "execution_count": 3,
   "id": "5f9789c1",
   "metadata": {
    "execution": {
     "iopub.execute_input": "2022-08-10T03:51:24.308303Z",
     "iopub.status.busy": "2022-08-10T03:51:24.308197Z",
     "iopub.status.idle": "2022-08-10T03:51:24.310356Z",
     "shell.execute_reply": "2022-08-10T03:51:24.310108Z"
    },
    "papermill": {
     "duration": 0.008297,
     "end_time": "2022-08-10T03:51:24.311300",
     "exception": false,
     "start_time": "2022-08-10T03:51:24.303003",
     "status": "completed"
    },
    "tags": []
   },
   "outputs": [],
   "source": [
    "import json\n",
    "data= {\"number\": x}\n",
    "with open('./'+title+'.json','w') as f:\n",
    "    json.dump(data,f)"
   ]
  },
  {
   "cell_type": "code",
   "execution_count": 4,
   "id": "4f5aef36",
   "metadata": {
    "execution": {
     "iopub.execute_input": "2022-08-10T03:51:24.320455Z",
     "iopub.status.busy": "2022-08-10T03:51:24.320364Z",
     "iopub.status.idle": "2022-08-10T03:51:24.322117Z",
     "shell.execute_reply": "2022-08-10T03:51:24.321913Z"
    },
    "papermill": {
     "duration": 0.007275,
     "end_time": "2022-08-10T03:51:24.322940",
     "exception": false,
     "start_time": "2022-08-10T03:51:24.315665",
     "status": "completed"
    },
    "tags": []
   },
   "outputs": [],
   "source": [
    "with open('./'+title+'.json','r') as f:\n",
    "    restore =json.load(f)"
   ]
  },
  {
   "cell_type": "code",
   "execution_count": 5,
   "id": "94454626",
   "metadata": {
    "execution": {
     "iopub.execute_input": "2022-08-10T03:51:24.331022Z",
     "iopub.status.busy": "2022-08-10T03:51:24.330930Z",
     "iopub.status.idle": "2022-08-10T03:51:24.332640Z",
     "shell.execute_reply": "2022-08-10T03:51:24.332434Z"
    },
    "papermill": {
     "duration": 0.006633,
     "end_time": "2022-08-10T03:51:24.333465",
     "exception": false,
     "start_time": "2022-08-10T03:51:24.326832",
     "status": "completed"
    },
    "tags": []
   },
   "outputs": [
    {
     "name": "stdout",
     "output_type": "stream",
     "text": [
      "123456\n"
     ]
    }
   ],
   "source": [
    "print(restore['number'])"
   ]
  },
  {
   "cell_type": "code",
   "execution_count": 6,
   "id": "366df19e",
   "metadata": {
    "execution": {
     "iopub.execute_input": "2022-08-10T03:51:24.341629Z",
     "iopub.status.busy": "2022-08-10T03:51:24.341545Z",
     "iopub.status.idle": "2022-08-10T03:51:24.474504Z",
     "shell.execute_reply": "2022-08-10T03:51:24.474237Z"
    },
    "papermill": {
     "duration": 0.138264,
     "end_time": "2022-08-10T03:51:24.475608",
     "exception": false,
     "start_time": "2022-08-10T03:51:24.337344",
     "status": "completed"
    },
    "tags": []
   },
   "outputs": [],
   "source": [
    "import boto3\n",
    "from botocore.client import Config\n",
    "\n",
    "ACCESS_KEY = 'd6dfe85cf4d2443a830bdbf1a442b8a6'\n",
    "SECRET_KEY = 'bc8e8cc586664ef698f967d3243902c3'\n",
    "s3_host = 'https://line-objects-dev.com'\n",
    "config = Config(signature_version='s3',\n",
    "        s3={'addressing_style': 'path'})\n",
    "  \n",
    "s3 = boto3.resource('s3',\n",
    "        aws_access_key_id = ACCESS_KEY,\n",
    "        aws_secret_access_key = SECRET_KEY,\n",
    "        endpoint_url = s3_host,\n",
    "        config=config)"
   ]
  },
  {
   "cell_type": "code",
   "execution_count": 7,
   "id": "1862500f",
   "metadata": {
    "execution": {
     "iopub.execute_input": "2022-08-10T03:51:24.484118Z",
     "iopub.status.busy": "2022-08-10T03:51:24.484024Z",
     "iopub.status.idle": "2022-08-10T03:51:24.959817Z",
     "shell.execute_reply": "2022-08-10T03:51:24.958077Z"
    },
    "papermill": {
     "duration": 0.485553,
     "end_time": "2022-08-10T03:51:24.965311",
     "exception": false,
     "start_time": "2022-08-10T03:51:24.479758",
     "status": "completed"
    },
    "tags": []
   },
   "outputs": [],
   "source": [
    "BUCKET_NAME='parpermill_local_test'\n",
    "if BUCKET_NAME not in s3.buckets.all():\n",
    "    s3.create_bucket(Bucket=BUCKET_NAME)"
   ]
  },
  {
   "cell_type": "code",
   "execution_count": 8,
   "id": "38bb8e9b",
   "metadata": {
    "execution": {
     "iopub.execute_input": "2022-08-10T03:51:24.992804Z",
     "iopub.status.busy": "2022-08-10T03:51:24.992409Z",
     "iopub.status.idle": "2022-08-10T03:51:25.049789Z",
     "shell.execute_reply": "2022-08-10T03:51:25.049308Z"
    },
    "papermill": {
     "duration": 0.070218,
     "end_time": "2022-08-10T03:51:25.051827",
     "exception": false,
     "start_time": "2022-08-10T03:51:24.981609",
     "status": "completed"
    },
    "tags": []
   },
   "outputs": [
    {
     "name": "stdout",
     "output_type": "stream",
     "text": [
      "hello-test-bucket\n",
      "lai-fe-distribution\n",
      "lai-rundeck\n",
      "parpermill_local_test\n"
     ]
    }
   ],
   "source": [
    "for bucket in s3.buckets.all():\n",
    "    print(bucket.name)"
   ]
  },
  {
   "cell_type": "code",
   "execution_count": 9,
   "id": "c3652ae0",
   "metadata": {
    "execution": {
     "iopub.execute_input": "2022-08-10T03:51:25.073913Z",
     "iopub.status.busy": "2022-08-10T03:51:25.073737Z",
     "iopub.status.idle": "2022-08-10T03:51:25.076648Z",
     "shell.execute_reply": "2022-08-10T03:51:25.076324Z"
    },
    "papermill": {
     "duration": 0.014061,
     "end_time": "2022-08-10T03:51:25.077912",
     "exception": false,
     "start_time": "2022-08-10T03:51:25.063851",
     "status": "completed"
    },
    "tags": []
   },
   "outputs": [],
   "source": [
    "buckets = s3.Bucket(name=BUCKET_NAME)"
   ]
  },
  {
   "cell_type": "code",
   "execution_count": 10,
   "id": "f3f7490a",
   "metadata": {
    "execution": {
     "iopub.execute_input": "2022-08-10T03:51:25.093612Z",
     "iopub.status.busy": "2022-08-10T03:51:25.093488Z",
     "iopub.status.idle": "2022-08-10T03:51:25.209612Z",
     "shell.execute_reply": "2022-08-10T03:51:25.208730Z"
    },
    "papermill": {
     "duration": 0.127311,
     "end_time": "2022-08-10T03:51:25.212612",
     "exception": false,
     "start_time": "2022-08-10T03:51:25.085301",
     "status": "completed"
    },
    "tags": []
   },
   "outputs": [],
   "source": [
    "from datetime import date\n",
    "s3.meta.client.upload_file('./'+title+'.json',BUCKET_NAME, title+\"_\"+str(date.today())+\".json\", ExtraArgs={'ACL': 'public-read'})"
   ]
  },
  {
   "cell_type": "code",
   "execution_count": 11,
   "id": "ae5db4be",
   "metadata": {
    "execution": {
     "iopub.execute_input": "2022-08-10T03:51:25.239562Z",
     "iopub.status.busy": "2022-08-10T03:51:25.239328Z",
     "iopub.status.idle": "2022-08-10T03:51:25.348752Z",
     "shell.execute_reply": "2022-08-10T03:51:25.346504Z"
    },
    "papermill": {
     "duration": 0.124151,
     "end_time": "2022-08-10T03:51:25.352528",
     "exception": false,
     "start_time": "2022-08-10T03:51:25.228377",
     "status": "completed"
    },
    "tags": []
   },
   "outputs": [
    {
     "name": "stdout",
     "output_type": "stream",
     "text": [
      "s3.ObjectSummary(bucket_name='parpermill_local_test', key='2022-08-10-Wed_2022-08-10.json')\n"
     ]
    }
   ],
   "source": [
    "for my_bucket_object in buckets.objects.all():\n",
    "    print(my_bucket_object)"
   ]
  },
  {
   "cell_type": "code",
   "execution_count": null,
   "id": "d3442849",
   "metadata": {
    "papermill": {
     "duration": 0.010508,
     "end_time": "2022-08-10T03:51:25.377676",
     "exception": false,
     "start_time": "2022-08-10T03:51:25.367168",
     "status": "completed"
    },
    "tags": []
   },
   "outputs": [],
   "source": []
  }
 ],
 "metadata": {
  "celltoolbar": "Tags",
  "kernelspec": {
   "display_name": "Python 3 (ipykernel)",
   "language": "python",
   "name": "python3"
  },
  "language_info": {
   "codemirror_mode": {
    "name": "ipython",
    "version": 3
   },
   "file_extension": ".py",
   "mimetype": "text/x-python",
   "name": "python",
   "nbconvert_exporter": "python",
   "pygments_lexer": "ipython3",
   "version": "3.8.9"
  },
  "papermill": {
   "default_parameters": {},
   "duration": 2.275068,
   "end_time": "2022-08-10T03:51:25.505354",
   "environment_variables": {},
   "exception": null,
   "input_path": "papermill_vos.ipynb",
   "output_path": "papermill_vos_output.ipynb",
   "parameters": {
    "title": "2022-08-10-Wed",
    "x": 123456
   },
   "start_time": "2022-08-10T03:51:23.230286",
   "version": "2.3.4"
  }
 },
 "nbformat": 4,
 "nbformat_minor": 5
}